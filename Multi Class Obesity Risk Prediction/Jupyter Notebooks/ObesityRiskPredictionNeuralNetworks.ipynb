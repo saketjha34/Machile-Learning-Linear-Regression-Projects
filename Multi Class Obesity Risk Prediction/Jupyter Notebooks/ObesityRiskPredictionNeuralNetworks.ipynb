{
 "cells": [
  {
   "cell_type": "code",
   "execution_count": 88,
   "metadata": {},
   "outputs": [],
   "source": [
    "import pandas as pd\n",
    "import numpy as np\n",
    "import torch\n",
    "import torch.nn as nn\n",
    "from torch.utils.data import Dataset\n",
    "from torch.utils.data import DataLoader\n",
    "import os\n",
    "import os\n",
    "import torch\n",
    "import pandas as pd\n",
    "from torch.utils.data import Dataset\n",
    "import numpy as np\n",
    "from sklearn.metrics import accuracy_score\n",
    "import tqdm\n",
    "from tqdm.auto import tqdm\n",
    "import matplotlib.pyplot as plt"
   ]
  },
  {
   "cell_type": "code",
   "execution_count": 89,
   "metadata": {},
   "outputs": [
    {
     "data": {
      "text/plain": [
       "device(type='cpu')"
      ]
     },
     "execution_count": 89,
     "metadata": {},
     "output_type": "execute_result"
    }
   ],
   "source": [
    "device = torch.device('cuda') if torch.cuda.is_available() else torch.device('cpu')\n",
    "device"
   ]
  },
  {
   "cell_type": "code",
   "execution_count": 90,
   "metadata": {},
   "outputs": [],
   "source": [
    "train_dir = '..\\\\preprocessed data\\\\train'\n",
    "val_dir = '..\\\\preprocessed data\\\\val'\n",
    "test_dir = '..\\\\preprocessed data\\\\test\\\\X.csv'"
   ]
  },
  {
   "cell_type": "code",
   "execution_count": 91,
   "metadata": {},
   "outputs": [],
   "source": [
    "class CustomDataset(Dataset):\n",
    "    def __init__(self, train_dir: str, augment : bool =False, noise_factor : float =0.1):\n",
    "        \"\"\"\n",
    "        Args:\n",
    "            train_dir (string): Directory with 'X.csv' and 'targets.csv' files.\n",
    "            augment (bool): Whether to apply augmentation.\n",
    "            noise_factor (float): Factor to control the amount of noise added for augmentation.\n",
    "        \"\"\"\n",
    "        # Construct file paths\n",
    "        data_path = os.path.join(train_dir, \"X.csv\")\n",
    "        target_path = os.path.join(train_dir, \"targets.csv\")\n",
    "        \n",
    "        # Load the data and targets from csv files\n",
    "        self.data = pd.read_csv(data_path)\n",
    "        self.targets = pd.read_csv(target_path)\n",
    "        \n",
    "        # Ensure the data and targets have matching lengths\n",
    "        assert len(self.data) == len(self.targets), \"Data and targets must have the same length\"\n",
    "        \n",
    "        # Augmentation parameters\n",
    "        self.augment = augment\n",
    "        self.noise_factor = noise_factor\n",
    "        \n",
    "    def __len__(self):\n",
    "        # Return the total number of samples\n",
    "        return len(self.data)\n",
    "    \n",
    "    def __getitem__(self, idx):\n",
    "        # Get the features and target for the given index\n",
    "        data_sample = self.data.iloc[idx].values\n",
    "        target_sample = self.targets.iloc[idx].values\n",
    "        \n",
    "        # Apply augmentation if specified\n",
    "        if self.augment:\n",
    "            data_sample = self._augment_data(data_sample)\n",
    "        \n",
    "        # Convert to torch tensors\n",
    "        data_sample = torch.tensor(data_sample, dtype=torch.float32)\n",
    "        target_sample = torch.tensor(target_sample, dtype=torch.float32)\n",
    "        \n",
    "        return data_sample, target_sample\n",
    "    \n",
    "    def _augment_data(self, data_sample):\n",
    "        # Add random noise to the data sample\n",
    "        np.random.seed(42)\n",
    "        noise = np.random.normal(0, self.noise_factor, data_sample.shape)\n",
    "        augmented_data = data_sample + noise\n",
    "        return augmented_data"
   ]
  },
  {
   "cell_type": "code",
   "execution_count": 92,
   "metadata": {},
   "outputs": [],
   "source": [
    "train_dataset = CustomDataset(train_dir=train_dir,)\n",
    "val_dataset = CustomDataset(train_dir = val_dir,)"
   ]
  },
  {
   "cell_type": "code",
   "execution_count": 93,
   "metadata": {},
   "outputs": [
    {
     "data": {
      "text/html": [
       "<div>\n",
       "<style scoped>\n",
       "    .dataframe tbody tr th:only-of-type {\n",
       "        vertical-align: middle;\n",
       "    }\n",
       "\n",
       "    .dataframe tbody tr th {\n",
       "        vertical-align: top;\n",
       "    }\n",
       "\n",
       "    .dataframe thead th {\n",
       "        text-align: right;\n",
       "    }\n",
       "</style>\n",
       "<table border=\"1\" class=\"dataframe\">\n",
       "  <thead>\n",
       "    <tr style=\"text-align: right;\">\n",
       "      <th></th>\n",
       "      <th>Age</th>\n",
       "      <th>Height</th>\n",
       "      <th>Weight</th>\n",
       "      <th>FCVC</th>\n",
       "      <th>NCP</th>\n",
       "      <th>CH2O</th>\n",
       "      <th>FAF</th>\n",
       "      <th>TUE</th>\n",
       "      <th>Gender_Female</th>\n",
       "      <th>Gender_Male</th>\n",
       "      <th>...</th>\n",
       "      <th>SCC_yes</th>\n",
       "      <th>CALC_Always</th>\n",
       "      <th>CALC_Frequently</th>\n",
       "      <th>CALC_Sometimes</th>\n",
       "      <th>CALC_no</th>\n",
       "      <th>MTRANS_Automobile</th>\n",
       "      <th>MTRANS_Bike</th>\n",
       "      <th>MTRANS_Motorbike</th>\n",
       "      <th>MTRANS_Public_Transportation</th>\n",
       "      <th>MTRANS_Walking</th>\n",
       "    </tr>\n",
       "  </thead>\n",
       "  <tbody>\n",
       "    <tr>\n",
       "      <th>0</th>\n",
       "      <td>0.115632</td>\n",
       "      <td>0.138434</td>\n",
       "      <td>0.022388</td>\n",
       "      <td>1.000000</td>\n",
       "      <td>0.000000</td>\n",
       "      <td>0.298106</td>\n",
       "      <td>0.000000</td>\n",
       "      <td>0.280444</td>\n",
       "      <td>1.0</td>\n",
       "      <td>0.0</td>\n",
       "      <td>...</td>\n",
       "      <td>0.0</td>\n",
       "      <td>0.0</td>\n",
       "      <td>0.0</td>\n",
       "      <td>1.0</td>\n",
       "      <td>0.0</td>\n",
       "      <td>0.0</td>\n",
       "      <td>0.0</td>\n",
       "      <td>0.0</td>\n",
       "      <td>1.0</td>\n",
       "      <td>0.0</td>\n",
       "    </tr>\n",
       "    <tr>\n",
       "      <th>1</th>\n",
       "      <td>0.148936</td>\n",
       "      <td>0.377358</td>\n",
       "      <td>0.231343</td>\n",
       "      <td>0.500000</td>\n",
       "      <td>0.000000</td>\n",
       "      <td>1.000000</td>\n",
       "      <td>0.333333</td>\n",
       "      <td>0.000000</td>\n",
       "      <td>0.0</td>\n",
       "      <td>1.0</td>\n",
       "      <td>...</td>\n",
       "      <td>0.0</td>\n",
       "      <td>0.0</td>\n",
       "      <td>0.0</td>\n",
       "      <td>1.0</td>\n",
       "      <td>0.0</td>\n",
       "      <td>0.0</td>\n",
       "      <td>0.0</td>\n",
       "      <td>0.0</td>\n",
       "      <td>1.0</td>\n",
       "      <td>0.0</td>\n",
       "    </tr>\n",
       "    <tr>\n",
       "      <th>2</th>\n",
       "      <td>0.180199</td>\n",
       "      <td>0.435581</td>\n",
       "      <td>0.320896</td>\n",
       "      <td>0.110012</td>\n",
       "      <td>0.000000</td>\n",
       "      <td>0.500000</td>\n",
       "      <td>0.000000</td>\n",
       "      <td>0.610015</td>\n",
       "      <td>1.0</td>\n",
       "      <td>0.0</td>\n",
       "      <td>...</td>\n",
       "      <td>0.0</td>\n",
       "      <td>0.0</td>\n",
       "      <td>0.0</td>\n",
       "      <td>1.0</td>\n",
       "      <td>0.0</td>\n",
       "      <td>0.0</td>\n",
       "      <td>0.0</td>\n",
       "      <td>0.0</td>\n",
       "      <td>1.0</td>\n",
       "      <td>0.0</td>\n",
       "    </tr>\n",
       "    <tr>\n",
       "      <th>3</th>\n",
       "      <td>0.205275</td>\n",
       "      <td>0.401845</td>\n",
       "      <td>0.563280</td>\n",
       "      <td>1.000000</td>\n",
       "      <td>0.666667</td>\n",
       "      <td>0.659368</td>\n",
       "      <td>0.116280</td>\n",
       "      <td>0.206403</td>\n",
       "      <td>1.0</td>\n",
       "      <td>0.0</td>\n",
       "      <td>...</td>\n",
       "      <td>0.0</td>\n",
       "      <td>0.0</td>\n",
       "      <td>0.0</td>\n",
       "      <td>1.0</td>\n",
       "      <td>0.0</td>\n",
       "      <td>0.0</td>\n",
       "      <td>0.0</td>\n",
       "      <td>0.0</td>\n",
       "      <td>1.0</td>\n",
       "      <td>0.0</td>\n",
       "    </tr>\n",
       "    <tr>\n",
       "      <th>4</th>\n",
       "      <td>0.153349</td>\n",
       "      <td>0.471698</td>\n",
       "      <td>0.323351</td>\n",
       "      <td>0.498319</td>\n",
       "      <td>0.666667</td>\n",
       "      <td>0.837784</td>\n",
       "      <td>0.000000</td>\n",
       "      <td>0.845051</td>\n",
       "      <td>0.0</td>\n",
       "      <td>1.0</td>\n",
       "      <td>...</td>\n",
       "      <td>0.0</td>\n",
       "      <td>0.0</td>\n",
       "      <td>0.0</td>\n",
       "      <td>1.0</td>\n",
       "      <td>0.0</td>\n",
       "      <td>0.0</td>\n",
       "      <td>0.0</td>\n",
       "      <td>0.0</td>\n",
       "      <td>1.0</td>\n",
       "      <td>0.0</td>\n",
       "    </tr>\n",
       "    <tr>\n",
       "      <th>...</th>\n",
       "      <td>...</td>\n",
       "      <td>...</td>\n",
       "      <td>...</td>\n",
       "      <td>...</td>\n",
       "      <td>...</td>\n",
       "      <td>...</td>\n",
       "      <td>...</td>\n",
       "      <td>...</td>\n",
       "      <td>...</td>\n",
       "      <td>...</td>\n",
       "      <td>...</td>\n",
       "      <td>...</td>\n",
       "      <td>...</td>\n",
       "      <td>...</td>\n",
       "      <td>...</td>\n",
       "      <td>...</td>\n",
       "      <td>...</td>\n",
       "      <td>...</td>\n",
       "      <td>...</td>\n",
       "      <td>...</td>\n",
       "      <td>...</td>\n",
       "    </tr>\n",
       "    <tr>\n",
       "      <th>18290</th>\n",
       "      <td>0.170213</td>\n",
       "      <td>0.566038</td>\n",
       "      <td>0.417910</td>\n",
       "      <td>1.000000</td>\n",
       "      <td>0.666667</td>\n",
       "      <td>0.500000</td>\n",
       "      <td>1.000000</td>\n",
       "      <td>0.000000</td>\n",
       "      <td>0.0</td>\n",
       "      <td>1.0</td>\n",
       "      <td>...</td>\n",
       "      <td>0.0</td>\n",
       "      <td>0.0</td>\n",
       "      <td>0.0</td>\n",
       "      <td>1.0</td>\n",
       "      <td>0.0</td>\n",
       "      <td>0.0</td>\n",
       "      <td>0.0</td>\n",
       "      <td>0.0</td>\n",
       "      <td>1.0</td>\n",
       "      <td>0.0</td>\n",
       "    </tr>\n",
       "    <tr>\n",
       "      <th>18291</th>\n",
       "      <td>0.185963</td>\n",
       "      <td>0.504317</td>\n",
       "      <td>0.275733</td>\n",
       "      <td>0.500000</td>\n",
       "      <td>0.666667</td>\n",
       "      <td>0.500000</td>\n",
       "      <td>0.000000</td>\n",
       "      <td>1.000000</td>\n",
       "      <td>0.0</td>\n",
       "      <td>1.0</td>\n",
       "      <td>...</td>\n",
       "      <td>0.0</td>\n",
       "      <td>0.0</td>\n",
       "      <td>0.0</td>\n",
       "      <td>1.0</td>\n",
       "      <td>0.0</td>\n",
       "      <td>0.0</td>\n",
       "      <td>0.0</td>\n",
       "      <td>0.0</td>\n",
       "      <td>1.0</td>\n",
       "      <td>0.0</td>\n",
       "    </tr>\n",
       "    <tr>\n",
       "      <th>18292</th>\n",
       "      <td>0.148936</td>\n",
       "      <td>0.320755</td>\n",
       "      <td>0.216418</td>\n",
       "      <td>0.500000</td>\n",
       "      <td>0.666667</td>\n",
       "      <td>1.000000</td>\n",
       "      <td>0.666667</td>\n",
       "      <td>0.000000</td>\n",
       "      <td>0.0</td>\n",
       "      <td>1.0</td>\n",
       "      <td>...</td>\n",
       "      <td>0.0</td>\n",
       "      <td>0.0</td>\n",
       "      <td>0.0</td>\n",
       "      <td>1.0</td>\n",
       "      <td>0.0</td>\n",
       "      <td>0.0</td>\n",
       "      <td>0.0</td>\n",
       "      <td>0.0</td>\n",
       "      <td>1.0</td>\n",
       "      <td>0.0</td>\n",
       "    </tr>\n",
       "    <tr>\n",
       "      <th>18293</th>\n",
       "      <td>0.255319</td>\n",
       "      <td>0.377594</td>\n",
       "      <td>0.544326</td>\n",
       "      <td>1.000000</td>\n",
       "      <td>0.666667</td>\n",
       "      <td>0.885366</td>\n",
       "      <td>0.000000</td>\n",
       "      <td>0.118653</td>\n",
       "      <td>1.0</td>\n",
       "      <td>0.0</td>\n",
       "      <td>...</td>\n",
       "      <td>0.0</td>\n",
       "      <td>0.0</td>\n",
       "      <td>0.0</td>\n",
       "      <td>1.0</td>\n",
       "      <td>0.0</td>\n",
       "      <td>0.0</td>\n",
       "      <td>0.0</td>\n",
       "      <td>0.0</td>\n",
       "      <td>1.0</td>\n",
       "      <td>0.0</td>\n",
       "    </tr>\n",
       "    <tr>\n",
       "      <th>18294</th>\n",
       "      <td>0.510594</td>\n",
       "      <td>0.611943</td>\n",
       "      <td>0.514917</td>\n",
       "      <td>0.982209</td>\n",
       "      <td>0.634255</td>\n",
       "      <td>0.872621</td>\n",
       "      <td>0.848569</td>\n",
       "      <td>0.000000</td>\n",
       "      <td>0.0</td>\n",
       "      <td>1.0</td>\n",
       "      <td>...</td>\n",
       "      <td>0.0</td>\n",
       "      <td>0.0</td>\n",
       "      <td>0.0</td>\n",
       "      <td>1.0</td>\n",
       "      <td>0.0</td>\n",
       "      <td>1.0</td>\n",
       "      <td>0.0</td>\n",
       "      <td>0.0</td>\n",
       "      <td>0.0</td>\n",
       "      <td>0.0</td>\n",
       "    </tr>\n",
       "  </tbody>\n",
       "</table>\n",
       "<p>18295 rows × 31 columns</p>\n",
       "</div>"
      ],
      "text/plain": [
       "            Age    Height    Weight      FCVC       NCP      CH2O       FAF  \\\n",
       "0      0.115632  0.138434  0.022388  1.000000  0.000000  0.298106  0.000000   \n",
       "1      0.148936  0.377358  0.231343  0.500000  0.000000  1.000000  0.333333   \n",
       "2      0.180199  0.435581  0.320896  0.110012  0.000000  0.500000  0.000000   \n",
       "3      0.205275  0.401845  0.563280  1.000000  0.666667  0.659368  0.116280   \n",
       "4      0.153349  0.471698  0.323351  0.498319  0.666667  0.837784  0.000000   \n",
       "...         ...       ...       ...       ...       ...       ...       ...   \n",
       "18290  0.170213  0.566038  0.417910  1.000000  0.666667  0.500000  1.000000   \n",
       "18291  0.185963  0.504317  0.275733  0.500000  0.666667  0.500000  0.000000   \n",
       "18292  0.148936  0.320755  0.216418  0.500000  0.666667  1.000000  0.666667   \n",
       "18293  0.255319  0.377594  0.544326  1.000000  0.666667  0.885366  0.000000   \n",
       "18294  0.510594  0.611943  0.514917  0.982209  0.634255  0.872621  0.848569   \n",
       "\n",
       "            TUE  Gender_Female  Gender_Male  ...  SCC_yes  CALC_Always  \\\n",
       "0      0.280444            1.0          0.0  ...      0.0          0.0   \n",
       "1      0.000000            0.0          1.0  ...      0.0          0.0   \n",
       "2      0.610015            1.0          0.0  ...      0.0          0.0   \n",
       "3      0.206403            1.0          0.0  ...      0.0          0.0   \n",
       "4      0.845051            0.0          1.0  ...      0.0          0.0   \n",
       "...         ...            ...          ...  ...      ...          ...   \n",
       "18290  0.000000            0.0          1.0  ...      0.0          0.0   \n",
       "18291  1.000000            0.0          1.0  ...      0.0          0.0   \n",
       "18292  0.000000            0.0          1.0  ...      0.0          0.0   \n",
       "18293  0.118653            1.0          0.0  ...      0.0          0.0   \n",
       "18294  0.000000            0.0          1.0  ...      0.0          0.0   \n",
       "\n",
       "       CALC_Frequently  CALC_Sometimes  CALC_no  MTRANS_Automobile  \\\n",
       "0                  0.0             1.0      0.0                0.0   \n",
       "1                  0.0             1.0      0.0                0.0   \n",
       "2                  0.0             1.0      0.0                0.0   \n",
       "3                  0.0             1.0      0.0                0.0   \n",
       "4                  0.0             1.0      0.0                0.0   \n",
       "...                ...             ...      ...                ...   \n",
       "18290              0.0             1.0      0.0                0.0   \n",
       "18291              0.0             1.0      0.0                0.0   \n",
       "18292              0.0             1.0      0.0                0.0   \n",
       "18293              0.0             1.0      0.0                0.0   \n",
       "18294              0.0             1.0      0.0                1.0   \n",
       "\n",
       "       MTRANS_Bike  MTRANS_Motorbike  MTRANS_Public_Transportation  \\\n",
       "0              0.0               0.0                           1.0   \n",
       "1              0.0               0.0                           1.0   \n",
       "2              0.0               0.0                           1.0   \n",
       "3              0.0               0.0                           1.0   \n",
       "4              0.0               0.0                           1.0   \n",
       "...            ...               ...                           ...   \n",
       "18290          0.0               0.0                           1.0   \n",
       "18291          0.0               0.0                           1.0   \n",
       "18292          0.0               0.0                           1.0   \n",
       "18293          0.0               0.0                           1.0   \n",
       "18294          0.0               0.0                           0.0   \n",
       "\n",
       "       MTRANS_Walking  \n",
       "0                 0.0  \n",
       "1                 0.0  \n",
       "2                 0.0  \n",
       "3                 0.0  \n",
       "4                 0.0  \n",
       "...               ...  \n",
       "18290             0.0  \n",
       "18291             0.0  \n",
       "18292             0.0  \n",
       "18293             0.0  \n",
       "18294             0.0  \n",
       "\n",
       "[18295 rows x 31 columns]"
      ]
     },
     "execution_count": 93,
     "metadata": {},
     "output_type": "execute_result"
    }
   ],
   "source": [
    "train_dataset.data"
   ]
  },
  {
   "cell_type": "code",
   "execution_count": 94,
   "metadata": {},
   "outputs": [
    {
     "data": {
      "text/html": [
       "<div>\n",
       "<style scoped>\n",
       "    .dataframe tbody tr th:only-of-type {\n",
       "        vertical-align: middle;\n",
       "    }\n",
       "\n",
       "    .dataframe tbody tr th {\n",
       "        vertical-align: top;\n",
       "    }\n",
       "\n",
       "    .dataframe thead th {\n",
       "        text-align: right;\n",
       "    }\n",
       "</style>\n",
       "<table border=\"1\" class=\"dataframe\">\n",
       "  <thead>\n",
       "    <tr style=\"text-align: right;\">\n",
       "      <th></th>\n",
       "      <th>0</th>\n",
       "    </tr>\n",
       "  </thead>\n",
       "  <tbody>\n",
       "    <tr>\n",
       "      <th>0</th>\n",
       "      <td>0</td>\n",
       "    </tr>\n",
       "    <tr>\n",
       "      <th>1</th>\n",
       "      <td>5</td>\n",
       "    </tr>\n",
       "    <tr>\n",
       "      <th>2</th>\n",
       "      <td>2</td>\n",
       "    </tr>\n",
       "    <tr>\n",
       "      <th>3</th>\n",
       "      <td>4</td>\n",
       "    </tr>\n",
       "    <tr>\n",
       "      <th>4</th>\n",
       "      <td>6</td>\n",
       "    </tr>\n",
       "    <tr>\n",
       "      <th>...</th>\n",
       "      <td>...</td>\n",
       "    </tr>\n",
       "    <tr>\n",
       "      <th>18290</th>\n",
       "      <td>6</td>\n",
       "    </tr>\n",
       "    <tr>\n",
       "      <th>18291</th>\n",
       "      <td>5</td>\n",
       "    </tr>\n",
       "    <tr>\n",
       "      <th>18292</th>\n",
       "      <td>5</td>\n",
       "    </tr>\n",
       "    <tr>\n",
       "      <th>18293</th>\n",
       "      <td>4</td>\n",
       "    </tr>\n",
       "    <tr>\n",
       "      <th>18294</th>\n",
       "      <td>2</td>\n",
       "    </tr>\n",
       "  </tbody>\n",
       "</table>\n",
       "<p>18295 rows × 1 columns</p>\n",
       "</div>"
      ],
      "text/plain": [
       "       0\n",
       "0      0\n",
       "1      5\n",
       "2      2\n",
       "3      4\n",
       "4      6\n",
       "...   ..\n",
       "18290  6\n",
       "18291  5\n",
       "18292  5\n",
       "18293  4\n",
       "18294  2\n",
       "\n",
       "[18295 rows x 1 columns]"
      ]
     },
     "execution_count": 94,
     "metadata": {},
     "output_type": "execute_result"
    }
   ],
   "source": [
    "train_dataset.targets"
   ]
  },
  {
   "cell_type": "code",
   "execution_count": 95,
   "metadata": {},
   "outputs": [],
   "source": [
    "BATCH_SIZE = 32\n",
    "# NUM_WORKERS = os.cpu_count()\n",
    "train_dl = DataLoader(\n",
    "    train_dataset ,\n",
    "    shuffle = False ,\n",
    "    batch_size=BATCH_SIZE,\n",
    ")\n",
    "\n",
    "val_dl = DataLoader(\n",
    "    val_dataset , \n",
    "    shuffle = False ,\n",
    "    batch_size=BATCH_SIZE,\n",
    ")"
   ]
  },
  {
   "cell_type": "code",
   "execution_count": 96,
   "metadata": {},
   "outputs": [
    {
     "name": "stdout",
     "output_type": "stream",
     "text": [
      "torch.Size([32, 31]) torch.Size([32, 1])\n"
     ]
    }
   ],
   "source": [
    "for _, batch in enumerate(train_dl):\n",
    "    X , y = batch[0] , batch[1]\n",
    "    print(X.shape, y.shape)\n",
    "    break"
   ]
  },
  {
   "cell_type": "code",
   "execution_count": 97,
   "metadata": {},
   "outputs": [
    {
     "data": {
      "text/plain": [
       "NeuralNetworkV1(\n",
       "  (LinearBlock1): Sequential(\n",
       "    (0): Flatten(start_dim=1, end_dim=-1)\n",
       "    (1): Linear(in_features=31, out_features=32, bias=True)\n",
       "    (2): BatchNorm1d(32, eps=1e-05, momentum=0.1, affine=True, track_running_stats=True)\n",
       "    (3): LeakyReLU(negative_slope=0.2, inplace=True)\n",
       "  )\n",
       "  (LinearBlock2): Sequential(\n",
       "    (0): Linear(in_features=32, out_features=32, bias=True)\n",
       "    (1): BatchNorm1d(32, eps=1e-05, momentum=0.1, affine=True, track_running_stats=True)\n",
       "    (2): LeakyReLU(negative_slope=0.2, inplace=True)\n",
       "  )\n",
       "  (LinearBlock3): Sequential(\n",
       "    (0): Linear(in_features=32, out_features=64, bias=True)\n",
       "    (1): BatchNorm1d(64, eps=1e-05, momentum=0.1, affine=True, track_running_stats=True)\n",
       "    (2): LeakyReLU(negative_slope=0.2, inplace=True)\n",
       "  )\n",
       "  (FC): Sequential(\n",
       "    (0): Dropout(p=0.5, inplace=False)\n",
       "    (1): Linear(in_features=64, out_features=7, bias=True)\n",
       "    (2): LeakyReLU(negative_slope=0.2, inplace=True)\n",
       "  )\n",
       ")"
      ]
     },
     "execution_count": 97,
     "metadata": {},
     "output_type": "execute_result"
    }
   ],
   "source": [
    "class NeuralNetworkV1(nn.Module):\n",
    "    def __init__(self, in_features , num_classes):\n",
    "        super(NeuralNetworkV1, self).__init__()\n",
    "\n",
    "        self.LinearBlock1 = nn.Sequential(\n",
    "            nn.Flatten(),\n",
    "            nn.Linear(in_features=in_features, out_features=32),\n",
    "            nn.BatchNorm1d(32),\n",
    "            nn.LeakyReLU(0.2, inplace=True)\n",
    "        )\n",
    "\n",
    "        self.LinearBlock2 = nn.Sequential(\n",
    "            nn.Linear(in_features=32, out_features=32),\n",
    "            nn.BatchNorm1d(32),\n",
    "            nn.LeakyReLU(0.2, inplace=True)\n",
    "        )\n",
    "\n",
    "        self.LinearBlock3 = nn.Sequential(\n",
    "            nn.Linear(in_features=32, out_features=64),\n",
    "            nn.BatchNorm1d(64),\n",
    "            nn.LeakyReLU(0.2, inplace=True)\n",
    "        )\n",
    "\n",
    "        self.FC = nn.Sequential(\n",
    "            nn.Dropout(0.5),\n",
    "            nn.Linear(in_features=64, out_features=num_classes),\n",
    "            nn.LeakyReLU(0.2, inplace=True),\n",
    "        )\n",
    "\n",
    "    def forward(self, x):\n",
    "        x = self.LinearBlock1(x)\n",
    "        x = self.LinearBlock2(x)\n",
    "        x = self.LinearBlock3(x)\n",
    "        x = self.FC(x)\n",
    "        return x\n",
    "\n",
    "model = NeuralNetworkV1(in_features=31 , num_classes=7).to(device)\n",
    "model"
   ]
  },
  {
   "cell_type": "code",
   "execution_count": 98,
   "metadata": {},
   "outputs": [],
   "source": [
    "import torch\n",
    "from sklearn.metrics import accuracy_score\n",
    "\n",
    "def train_step(model: torch.nn.Module,\n",
    "               train_dl: torch.utils.data.DataLoader,\n",
    "               loss_fn: torch.nn.Module,\n",
    "               optimizer: torch.optim.Optimizer,\n",
    "               device: torch.device) -> tuple[float, float]:\n",
    "\n",
    "    model.to(device)\n",
    "    model.train()\n",
    "\n",
    "    train_accuracy = 0.0\n",
    "    train_loss = 0.0\n",
    "\n",
    "    for idx, (X_train, train_targets) in enumerate(train_dl):\n",
    "\n",
    "        X_train, train_targets = X_train.to(device), train_targets.to(device)\n",
    "\n",
    "        # Ensure targets are of type LongTensor\n",
    "        train_targets = train_targets.long()\n",
    "\n",
    "        train_logits = model(X_train)\n",
    "        train_preds = torch.softmax(train_logits, dim=1).argmax(dim=1)\n",
    "\n",
    "        # Compute loss\n",
    "        loss = loss_fn(train_logits, train_targets.squeeze(1))\n",
    "\n",
    "        # Calculate accuracy\n",
    "        train_acc = accuracy_score(train_targets.cpu(), train_preds.cpu())\n",
    "\n",
    "        train_accuracy += train_acc\n",
    "        train_loss += loss.item()\n",
    "\n",
    "        optimizer.zero_grad()\n",
    "        loss.backward()\n",
    "        optimizer.step()\n",
    "\n",
    "    train_accuracy /= len(train_dl)\n",
    "    train_loss /= len(train_dl)\n",
    "\n",
    "    return train_accuracy, train_loss"
   ]
  },
  {
   "cell_type": "code",
   "execution_count": 99,
   "metadata": {},
   "outputs": [],
   "source": [
    "def eval_step(model: torch.nn.Module,\n",
    "              val_dl: torch.utils.data.DataLoader,\n",
    "              loss_fn: torch.nn.Module,\n",
    "              device: torch.device) -> tuple[float, float]:\n",
    "\n",
    "\n",
    "    val_accuracy = 0.0\n",
    "    val_loss = 0.0\n",
    "\n",
    "    model.to(device)\n",
    "    model.eval()\n",
    "\n",
    "    with torch.inference_mode():\n",
    "\n",
    "        for X_val, val_targets in val_dl:\n",
    "            X_val, val_targets = X_val.to(device), val_targets.to(device)\n",
    "            \n",
    "            val_targets = val_targets.long()\n",
    "            \n",
    "            val_logits = model(X_val)\n",
    "            val_loss = loss_fn(val_logits, val_targets.squeeze(dim=1))\n",
    "\n",
    "            val_preds = torch.softmax(val_logits,dim=1).argmax(dim=1).unsqueeze(1)\n",
    "            val_acc = accuracy_score(val_targets.flatten() , val_preds.flatten())\n",
    "\n",
    "            val_accuracy += val_acc\n",
    "            val_loss += val_loss.item()\n",
    "\n",
    "        val_accuracy /= len(val_dl)\n",
    "        val_loss /= len(val_dl)\n",
    "\n",
    "    return val_accuracy, val_loss"
   ]
  },
  {
   "cell_type": "code",
   "execution_count": 100,
   "metadata": {},
   "outputs": [],
   "source": [
    "def train_model(model : torch.nn.Module,\n",
    "               train_dl : torch.utils.data.DataLoader,\n",
    "               val_dl : torch.utils.data.DataLoader,\n",
    "               loss_fn : torch.nn.Module,\n",
    "               optimizer : torch.optim.Optimizer,\n",
    "               epochs: int,\n",
    "               device : torch.device) -> dict[str, list[float]]:\n",
    "    \n",
    "\n",
    "    results = {\"train_accuracy\": [],\n",
    "        \"train_loss\": [],\n",
    "        \"val_accuracy\": [],\n",
    "        \"val_loss\": [],\n",
    "    }\n",
    "    \n",
    "    for epoch in tqdm(range(epochs)):\n",
    "        \n",
    "        train_accuracy , train_loss =train_step(train_dl=train_dl, \n",
    "            model=model, \n",
    "            loss_fn=loss_fn,\n",
    "            optimizer=optimizer,\n",
    "            device = device\n",
    "        )\n",
    "\n",
    "        val_accuracy , val_loss =eval_step(\n",
    "            model=model,\n",
    "            val_dl= val_dl,\n",
    "            loss_fn=loss_fn,\n",
    "            device = device\n",
    "        )\n",
    "\n",
    "        results['train_accuracy'].append(train_accuracy)\n",
    "        results['train_loss'].append(train_loss)\n",
    "        results['val_accuracy'].append(val_accuracy)\n",
    "        results['val_loss'].append(val_loss)\n",
    "\n",
    "        print('-------------- EPOCH {} ----------------------------'.format(epoch))\n",
    "        print(f\"Train Accuracy: {train_accuracy:.5f} | Train Loss : {train_loss:.5f}\")\n",
    "        print(f\"Val Accuracy: {val_accuracy:.5f} | Val Loss: {val_loss:.5f}\\n\")\n",
    "        print()\n",
    "\n",
    "    return results"
   ]
  },
  {
   "cell_type": "code",
   "execution_count": 101,
   "metadata": {},
   "outputs": [
    {
     "name": "stderr",
     "output_type": "stream",
     "text": [
      "  2%|▎         | 1/40 [00:03<02:08,  3.30s/it]"
     ]
    },
    {
     "name": "stdout",
     "output_type": "stream",
     "text": [
      "-------------- EPOCH 0 ----------------------------\n",
      "Train Accuracy: 0.44217 | Train Loss : 1.58289\n",
      "Val Accuracy: 0.56649 | Val Loss: 0.01504\n",
      "\n",
      "\n"
     ]
    },
    {
     "name": "stderr",
     "output_type": "stream",
     "text": [
      "  5%|▌         | 2/40 [00:06<02:05,  3.31s/it]"
     ]
    },
    {
     "name": "stdout",
     "output_type": "stream",
     "text": [
      "-------------- EPOCH 1 ----------------------------\n",
      "Train Accuracy: 0.56121 | Train Loss : 1.23346\n",
      "Val Accuracy: 0.62335 | Val Loss: 0.01169\n",
      "\n",
      "\n"
     ]
    },
    {
     "name": "stderr",
     "output_type": "stream",
     "text": [
      "  8%|▊         | 3/40 [00:09<02:03,  3.33s/it]"
     ]
    },
    {
     "name": "stdout",
     "output_type": "stream",
     "text": [
      "-------------- EPOCH 2 ----------------------------\n",
      "Train Accuracy: 0.61758 | Train Loss : 1.05666\n",
      "Val Accuracy: 0.68370 | Val Loss: 0.01014\n",
      "\n",
      "\n"
     ]
    },
    {
     "name": "stderr",
     "output_type": "stream",
     "text": [
      " 10%|█         | 4/40 [00:13<02:04,  3.46s/it]"
     ]
    },
    {
     "name": "stdout",
     "output_type": "stream",
     "text": [
      "-------------- EPOCH 3 ----------------------------\n",
      "Train Accuracy: 0.65369 | Train Loss : 0.93358\n",
      "Val Accuracy: 0.71145 | Val Loss: 0.00917\n",
      "\n",
      "\n"
     ]
    },
    {
     "name": "stderr",
     "output_type": "stream",
     "text": [
      " 12%|█▎        | 5/40 [00:17<02:07,  3.64s/it]"
     ]
    },
    {
     "name": "stdout",
     "output_type": "stream",
     "text": [
      "-------------- EPOCH 4 ----------------------------\n",
      "Train Accuracy: 0.68404 | Train Loss : 0.85041\n",
      "Val Accuracy: 0.74117 | Val Loss: 0.00842\n",
      "\n",
      "\n"
     ]
    },
    {
     "name": "stderr",
     "output_type": "stream",
     "text": [
      " 15%|█▌        | 6/40 [00:21<02:06,  3.71s/it]"
     ]
    },
    {
     "name": "stdout",
     "output_type": "stream",
     "text": [
      "-------------- EPOCH 5 ----------------------------\n",
      "Train Accuracy: 0.70590 | Train Loss : 0.78546\n",
      "Val Accuracy: 0.76171 | Val Loss: 0.00774\n",
      "\n",
      "\n"
     ]
    },
    {
     "name": "stderr",
     "output_type": "stream",
     "text": [
      " 18%|█▊        | 7/40 [00:26<02:21,  4.28s/it]"
     ]
    },
    {
     "name": "stdout",
     "output_type": "stream",
     "text": [
      "-------------- EPOCH 6 ----------------------------\n",
      "Train Accuracy: 0.72250 | Train Loss : 0.73635\n",
      "Val Accuracy: 0.78224 | Val Loss: 0.00718\n",
      "\n",
      "\n"
     ]
    },
    {
     "name": "stderr",
     "output_type": "stream",
     "text": [
      " 20%|██        | 8/40 [00:31<02:18,  4.33s/it]"
     ]
    },
    {
     "name": "stdout",
     "output_type": "stream",
     "text": [
      "-------------- EPOCH 7 ----------------------------\n",
      "Train Accuracy: 0.74025 | Train Loss : 0.68886\n",
      "Val Accuracy: 0.79952 | Val Loss: 0.00670\n",
      "\n",
      "\n"
     ]
    },
    {
     "name": "stderr",
     "output_type": "stream",
     "text": [
      " 22%|██▎       | 9/40 [00:35<02:16,  4.40s/it]"
     ]
    },
    {
     "name": "stdout",
     "output_type": "stream",
     "text": [
      "-------------- EPOCH 8 ----------------------------\n",
      "Train Accuracy: 0.75333 | Train Loss : 0.65406\n",
      "Val Accuracy: 0.80892 | Val Loss: 0.00635\n",
      "\n",
      "\n"
     ]
    },
    {
     "name": "stderr",
     "output_type": "stream",
     "text": [
      " 25%|██▌       | 10/40 [00:40<02:10,  4.35s/it]"
     ]
    },
    {
     "name": "stdout",
     "output_type": "stream",
     "text": [
      "-------------- EPOCH 9 ----------------------------\n",
      "Train Accuracy: 0.75849 | Train Loss : 0.62562\n",
      "Val Accuracy: 0.81855 | Val Loss: 0.00599\n",
      "\n",
      "\n"
     ]
    },
    {
     "name": "stderr",
     "output_type": "stream",
     "text": [
      " 28%|██▊       | 11/40 [00:44<02:07,  4.40s/it]"
     ]
    },
    {
     "name": "stdout",
     "output_type": "stream",
     "text": [
      "-------------- EPOCH 10 ----------------------------\n",
      "Train Accuracy: 0.77347 | Train Loss : 0.60585\n",
      "Val Accuracy: 0.82554 | Val Loss: 0.00576\n",
      "\n",
      "\n"
     ]
    },
    {
     "name": "stderr",
     "output_type": "stream",
     "text": [
      " 30%|███       | 12/40 [00:49<02:05,  4.48s/it]"
     ]
    },
    {
     "name": "stdout",
     "output_type": "stream",
     "text": [
      "-------------- EPOCH 11 ----------------------------\n",
      "Train Accuracy: 0.77646 | Train Loss : 0.59001\n",
      "Val Accuracy: 0.83013 | Val Loss: 0.00557\n",
      "\n",
      "\n"
     ]
    },
    {
     "name": "stderr",
     "output_type": "stream",
     "text": [
      " 32%|███▎      | 13/40 [00:53<02:02,  4.52s/it]"
     ]
    },
    {
     "name": "stdout",
     "output_type": "stream",
     "text": [
      "-------------- EPOCH 12 ----------------------------\n",
      "Train Accuracy: 0.78083 | Train Loss : 0.57455\n",
      "Val Accuracy: 0.83277 | Val Loss: 0.00532\n",
      "\n",
      "\n"
     ]
    },
    {
     "name": "stderr",
     "output_type": "stream",
     "text": [
      " 35%|███▌      | 14/40 [00:58<01:55,  4.44s/it]"
     ]
    },
    {
     "name": "stdout",
     "output_type": "stream",
     "text": [
      "-------------- EPOCH 13 ----------------------------\n",
      "Train Accuracy: 0.78521 | Train Loss : 0.56842\n",
      "Val Accuracy: 0.83495 | Val Loss: 0.00524\n",
      "\n",
      "\n"
     ]
    },
    {
     "name": "stderr",
     "output_type": "stream",
     "text": [
      " 38%|███▊      | 15/40 [01:02<01:49,  4.39s/it]"
     ]
    },
    {
     "name": "stdout",
     "output_type": "stream",
     "text": [
      "-------------- EPOCH 14 ----------------------------\n",
      "Train Accuracy: 0.79022 | Train Loss : 0.55334\n",
      "Val Accuracy: 0.83802 | Val Loss: 0.00511\n",
      "\n",
      "\n"
     ]
    },
    {
     "name": "stderr",
     "output_type": "stream",
     "text": [
      " 40%|████      | 16/40 [01:06<01:45,  4.38s/it]"
     ]
    },
    {
     "name": "stdout",
     "output_type": "stream",
     "text": [
      "-------------- EPOCH 15 ----------------------------\n",
      "Train Accuracy: 0.79443 | Train Loss : 0.54755\n",
      "Val Accuracy: 0.84194 | Val Loss: 0.00502\n",
      "\n",
      "\n"
     ]
    },
    {
     "name": "stderr",
     "output_type": "stream",
     "text": [
      " 42%|████▎     | 17/40 [01:11<01:40,  4.36s/it]"
     ]
    },
    {
     "name": "stdout",
     "output_type": "stream",
     "text": [
      "-------------- EPOCH 16 ----------------------------\n",
      "Train Accuracy: 0.79920 | Train Loss : 0.53566\n",
      "Val Accuracy: 0.84283 | Val Loss: 0.00485\n",
      "\n",
      "\n"
     ]
    },
    {
     "name": "stderr",
     "output_type": "stream",
     "text": [
      " 45%|████▌     | 18/40 [01:15<01:34,  4.31s/it]"
     ]
    },
    {
     "name": "stdout",
     "output_type": "stream",
     "text": [
      "-------------- EPOCH 17 ----------------------------\n",
      "Train Accuracy: 0.80063 | Train Loss : 0.53412\n",
      "Val Accuracy: 0.84698 | Val Loss: 0.00469\n",
      "\n",
      "\n"
     ]
    },
    {
     "name": "stderr",
     "output_type": "stream",
     "text": [
      " 48%|████▊     | 19/40 [01:19<01:28,  4.22s/it]"
     ]
    },
    {
     "name": "stdout",
     "output_type": "stream",
     "text": [
      "-------------- EPOCH 18 ----------------------------\n",
      "Train Accuracy: 0.79912 | Train Loss : 0.53188\n",
      "Val Accuracy: 0.84677 | Val Loss: 0.00473\n",
      "\n",
      "\n"
     ]
    },
    {
     "name": "stderr",
     "output_type": "stream",
     "text": [
      " 50%|█████     | 20/40 [01:23<01:24,  4.22s/it]"
     ]
    },
    {
     "name": "stdout",
     "output_type": "stream",
     "text": [
      "-------------- EPOCH 19 ----------------------------\n",
      "Train Accuracy: 0.80336 | Train Loss : 0.51955\n",
      "Val Accuracy: 0.84567 | Val Loss: 0.00460\n",
      "\n",
      "\n"
     ]
    },
    {
     "name": "stderr",
     "output_type": "stream",
     "text": [
      " 52%|█████▎    | 21/40 [01:27<01:21,  4.29s/it]"
     ]
    },
    {
     "name": "stdout",
     "output_type": "stream",
     "text": [
      "-------------- EPOCH 20 ----------------------------\n",
      "Train Accuracy: 0.80459 | Train Loss : 0.52079\n",
      "Val Accuracy: 0.84939 | Val Loss: 0.00464\n",
      "\n",
      "\n"
     ]
    },
    {
     "name": "stderr",
     "output_type": "stream",
     "text": [
      " 55%|█████▌    | 22/40 [01:32<01:18,  4.38s/it]"
     ]
    },
    {
     "name": "stdout",
     "output_type": "stream",
     "text": [
      "-------------- EPOCH 21 ----------------------------\n",
      "Train Accuracy: 0.80614 | Train Loss : 0.51525\n",
      "Val Accuracy: 0.85004 | Val Loss: 0.00454\n",
      "\n",
      "\n"
     ]
    },
    {
     "name": "stderr",
     "output_type": "stream",
     "text": [
      " 57%|█████▊    | 23/40 [01:37<01:15,  4.47s/it]"
     ]
    },
    {
     "name": "stdout",
     "output_type": "stream",
     "text": [
      "-------------- EPOCH 22 ----------------------------\n",
      "Train Accuracy: 0.81094 | Train Loss : 0.50737\n",
      "Val Accuracy: 0.85092 | Val Loss: 0.00450\n",
      "\n",
      "\n"
     ]
    },
    {
     "name": "stderr",
     "output_type": "stream",
     "text": [
      " 60%|██████    | 24/40 [01:41<01:11,  4.48s/it]"
     ]
    },
    {
     "name": "stdout",
     "output_type": "stream",
     "text": [
      "-------------- EPOCH 23 ----------------------------\n",
      "Train Accuracy: 0.80982 | Train Loss : 0.50352\n",
      "Val Accuracy: 0.84939 | Val Loss: 0.00454\n",
      "\n",
      "\n"
     ]
    },
    {
     "name": "stderr",
     "output_type": "stream",
     "text": [
      " 62%|██████▎   | 25/40 [01:46<01:07,  4.47s/it]"
     ]
    },
    {
     "name": "stdout",
     "output_type": "stream",
     "text": [
      "-------------- EPOCH 24 ----------------------------\n",
      "Train Accuracy: 0.81224 | Train Loss : 0.50293\n",
      "Val Accuracy: 0.85332 | Val Loss: 0.00452\n",
      "\n",
      "\n"
     ]
    },
    {
     "name": "stderr",
     "output_type": "stream",
     "text": [
      " 65%|██████▌   | 26/40 [01:50<01:02,  4.47s/it]"
     ]
    },
    {
     "name": "stdout",
     "output_type": "stream",
     "text": [
      "-------------- EPOCH 25 ----------------------------\n",
      "Train Accuracy: 0.81189 | Train Loss : 0.50177\n",
      "Val Accuracy: 0.85070 | Val Loss: 0.00446\n",
      "\n",
      "\n"
     ]
    },
    {
     "name": "stderr",
     "output_type": "stream",
     "text": [
      " 68%|██████▊   | 27/40 [01:55<00:58,  4.46s/it]"
     ]
    },
    {
     "name": "stdout",
     "output_type": "stream",
     "text": [
      "-------------- EPOCH 26 ----------------------------\n",
      "Train Accuracy: 0.81104 | Train Loss : 0.49991\n",
      "Val Accuracy: 0.85245 | Val Loss: 0.00441\n",
      "\n",
      "\n"
     ]
    },
    {
     "name": "stderr",
     "output_type": "stream",
     "text": [
      " 70%|███████   | 28/40 [02:00<00:56,  4.71s/it]"
     ]
    },
    {
     "name": "stdout",
     "output_type": "stream",
     "text": [
      "-------------- EPOCH 27 ----------------------------\n",
      "Train Accuracy: 0.81519 | Train Loss : 0.49505\n",
      "Val Accuracy: 0.85026 | Val Loss: 0.00438\n",
      "\n",
      "\n"
     ]
    },
    {
     "name": "stderr",
     "output_type": "stream",
     "text": [
      " 72%|███████▎  | 29/40 [02:05<00:52,  4.74s/it]"
     ]
    },
    {
     "name": "stdout",
     "output_type": "stream",
     "text": [
      "-------------- EPOCH 28 ----------------------------\n",
      "Train Accuracy: 0.81426 | Train Loss : 0.48797\n",
      "Val Accuracy: 0.85157 | Val Loss: 0.00443\n",
      "\n",
      "\n"
     ]
    },
    {
     "name": "stderr",
     "output_type": "stream",
     "text": [
      " 75%|███████▌  | 30/40 [02:09<00:47,  4.73s/it]"
     ]
    },
    {
     "name": "stdout",
     "output_type": "stream",
     "text": [
      "-------------- EPOCH 29 ----------------------------\n",
      "Train Accuracy: 0.81645 | Train Loss : 0.48876\n",
      "Val Accuracy: 0.85048 | Val Loss: 0.00421\n",
      "\n",
      "\n"
     ]
    },
    {
     "name": "stderr",
     "output_type": "stream",
     "text": [
      " 78%|███████▊  | 31/40 [02:14<00:41,  4.65s/it]"
     ]
    },
    {
     "name": "stdout",
     "output_type": "stream",
     "text": [
      "-------------- EPOCH 30 ----------------------------\n",
      "Train Accuracy: 0.81904 | Train Loss : 0.48522\n",
      "Val Accuracy: 0.85223 | Val Loss: 0.00427\n",
      "\n",
      "\n"
     ]
    },
    {
     "name": "stderr",
     "output_type": "stream",
     "text": [
      " 80%|████████  | 32/40 [02:19<00:37,  4.68s/it]"
     ]
    },
    {
     "name": "stdout",
     "output_type": "stream",
     "text": [
      "-------------- EPOCH 31 ----------------------------\n",
      "Train Accuracy: 0.82149 | Train Loss : 0.48624\n",
      "Val Accuracy: 0.85135 | Val Loss: 0.00418\n",
      "\n",
      "\n"
     ]
    },
    {
     "name": "stderr",
     "output_type": "stream",
     "text": [
      " 82%|████████▎ | 33/40 [02:23<00:32,  4.63s/it]"
     ]
    },
    {
     "name": "stdout",
     "output_type": "stream",
     "text": [
      "-------------- EPOCH 32 ----------------------------\n",
      "Train Accuracy: 0.81855 | Train Loss : 0.48462\n",
      "Val Accuracy: 0.85201 | Val Loss: 0.00425\n",
      "\n",
      "\n"
     ]
    },
    {
     "name": "stderr",
     "output_type": "stream",
     "text": [
      " 85%|████████▌ | 34/40 [02:28<00:27,  4.55s/it]"
     ]
    },
    {
     "name": "stdout",
     "output_type": "stream",
     "text": [
      "-------------- EPOCH 33 ----------------------------\n",
      "Train Accuracy: 0.82151 | Train Loss : 0.47945\n",
      "Val Accuracy: 0.85332 | Val Loss: 0.00426\n",
      "\n",
      "\n"
     ]
    },
    {
     "name": "stderr",
     "output_type": "stream",
     "text": [
      " 88%|████████▊ | 35/40 [02:32<00:22,  4.54s/it]"
     ]
    },
    {
     "name": "stdout",
     "output_type": "stream",
     "text": [
      "-------------- EPOCH 34 ----------------------------\n",
      "Train Accuracy: 0.82202 | Train Loss : 0.47820\n",
      "Val Accuracy: 0.85551 | Val Loss: 0.00414\n",
      "\n",
      "\n"
     ]
    },
    {
     "name": "stderr",
     "output_type": "stream",
     "text": [
      " 90%|█████████ | 36/40 [02:37<00:18,  4.56s/it]"
     ]
    },
    {
     "name": "stdout",
     "output_type": "stream",
     "text": [
      "-------------- EPOCH 35 ----------------------------\n",
      "Train Accuracy: 0.82426 | Train Loss : 0.47742\n",
      "Val Accuracy: 0.85529 | Val Loss: 0.00417\n",
      "\n",
      "\n"
     ]
    },
    {
     "name": "stderr",
     "output_type": "stream",
     "text": [
      " 92%|█████████▎| 37/40 [02:41<00:13,  4.58s/it]"
     ]
    },
    {
     "name": "stdout",
     "output_type": "stream",
     "text": [
      "-------------- EPOCH 36 ----------------------------\n",
      "Train Accuracy: 0.82464 | Train Loss : 0.47270\n",
      "Val Accuracy: 0.85726 | Val Loss: 0.00419\n",
      "\n",
      "\n"
     ]
    },
    {
     "name": "stderr",
     "output_type": "stream",
     "text": [
      " 95%|█████████▌| 38/40 [02:46<00:09,  4.59s/it]"
     ]
    },
    {
     "name": "stdout",
     "output_type": "stream",
     "text": [
      "-------------- EPOCH 37 ----------------------------\n",
      "Train Accuracy: 0.82579 | Train Loss : 0.47177\n",
      "Val Accuracy: 0.85638 | Val Loss: 0.00422\n",
      "\n",
      "\n"
     ]
    },
    {
     "name": "stderr",
     "output_type": "stream",
     "text": [
      " 98%|█████████▊| 39/40 [02:50<00:04,  4.47s/it]"
     ]
    },
    {
     "name": "stdout",
     "output_type": "stream",
     "text": [
      "-------------- EPOCH 38 ----------------------------\n",
      "Train Accuracy: 0.82568 | Train Loss : 0.47321\n",
      "Val Accuracy: 0.85769 | Val Loss: 0.00407\n",
      "\n",
      "\n"
     ]
    },
    {
     "name": "stderr",
     "output_type": "stream",
     "text": [
      "100%|██████████| 40/40 [02:54<00:00,  4.37s/it]"
     ]
    },
    {
     "name": "stdout",
     "output_type": "stream",
     "text": [
      "-------------- EPOCH 39 ----------------------------\n",
      "Train Accuracy: 0.82703 | Train Loss : 0.47171\n",
      "Val Accuracy: 0.85769 | Val Loss: 0.00404\n",
      "\n",
      "\n"
     ]
    },
    {
     "name": "stderr",
     "output_type": "stream",
     "text": [
      "\n"
     ]
    }
   ],
   "source": [
    "import torch.optim as optim \n",
    "\n",
    "epochs = 40\n",
    "learning_rate = 0.0001\n",
    "\n",
    "loss_fn = nn.CrossEntropyLoss()\n",
    "optimizer = optim.Adam(model.parameters(), lr=learning_rate )\n",
    "\n",
    "model_history = train_model(model=model,\n",
    "                    train_dl=train_dl,\n",
    "                    val_dl=val_dl,\n",
    "                    optimizer=optimizer, \n",
    "                    loss_fn=loss_fn,\n",
    "                    epochs = epochs, \n",
    "                    device=device)"
   ]
  },
  {
   "cell_type": "code",
   "execution_count": 103,
   "metadata": {},
   "outputs": [
    {
     "data": {
      "image/png": "[encoded data removed]",
      "text/plain": [
       "<Figure size 1200x800 with 4 Axes>"
      ]
     },
     "metadata": {},
     "output_type": "display_data"
    }
   ],
   "source": [
    "from matplotlib.gridspec import GridSpec\n",
    "def plot_loss_curve_grid(results: dict[str, list[float]]) -> None:\n",
    "    \"\"\"\n",
    "    Plots training curves of a results dictionary.\n",
    "    Args:\n",
    "        results (dict): Dictionary containing lists of values.\n",
    "            Example:\n",
    "            {'loss_generator': [float],\n",
    "             'loss_discriminator': [float],\n",
    "             'real_scores': [float],\n",
    "             'fake_scores': [float]}\n",
    "    Plots:\n",
    "        - Generator Loss over epochs.\n",
    "        - Discriminator Loss over epochs.\n",
    "        - Real Score over epochs.\n",
    "        - Fake Score over epochs.\n",
    "    \"\"\"\n",
    "\n",
    "    train_accuracy = results['train_accuracy']\n",
    "    train_loss = results['train_loss']\n",
    "    val_accuracy = results['val_accuracy']\n",
    "    val_loss = results['val_loss']\n",
    "\n",
    "    epochs = range(len(train_accuracy))\n",
    "\n",
    "    fig = plt.figure(figsize=(12, 8))\n",
    "    gs = GridSpec(2, 2, figure=fig)\n",
    "\n",
    "    ax1 = fig.add_subplot(gs[0, 0])\n",
    "    ax1.plot(epochs, train_accuracy, marker='o', color='b', label='Train Accuracy')\n",
    "    ax1.set_title('Train Accuracy')\n",
    "    ax1.set_xlabel('Epochs')\n",
    "    ax1.set_ylabel('Accuracy')\n",
    "    ax1.legend()\n",
    "    ax1.grid(True)\n",
    "\n",
    "    ax2 = fig.add_subplot(gs[0, 1])\n",
    "    ax2.plot(epochs, train_loss, marker='s', color='r', label='Train Loss')\n",
    "    ax2.set_title('Train Loss')\n",
    "    ax2.set_xlabel('Epochs')\n",
    "    ax2.set_ylabel('Loss')\n",
    "    ax2.legend()\n",
    "    ax2.grid(True)\n",
    "\n",
    "    ax3 = fig.add_subplot(gs[1, 0])\n",
    "    ax3.plot(epochs, val_accuracy, marker='o', color='g', label='Val Accuracy')\n",
    "    ax3.set_title('Val Accuracy')\n",
    "    ax3.set_xlabel('Epochs')\n",
    "    ax3.set_ylabel('Accuracy')\n",
    "    ax3.legend()\n",
    "    ax3.grid(True)\n",
    "\n",
    "    ax4 = fig.add_subplot(gs[1, 1])\n",
    "    ax4.plot(epochs, val_loss, marker='s', color='purple', label='Val Loss')\n",
    "    ax4.set_title('Val Loss')\n",
    "    ax4.set_xlabel('Epochs')\n",
    "    ax4.set_ylabel('Loss')\n",
    "    ax4.legend()\n",
    "    ax4.grid(True)\n",
    "\n",
    "    plt.tight_layout()\n",
    "    plt.show()\n",
    "\n",
    "plot_loss_curve_grid(model_history)"
   ]
  },
  {
   "cell_type": "code",
   "execution_count": 104,
   "metadata": {},
   "outputs": [
    {
     "data": {
      "image/png": "[encoded data removed]",
      "text/plain": [
       "<Figure size 1200x500 with 2 Axes>"
      ]
     },
     "metadata": {},
     "output_type": "display_data"
    }
   ],
   "source": [
    "def plot_loss_curves(results: dict[str, list[float]]) -> None:\n",
    "    \"\"\"\n",
    "    Plots training curves of a results dictionary.\n",
    "\n",
    "    Args:\n",
    "        results (dict): dictionary containing list of values, e.g.\n",
    "            {'loss_generator' : [],\n",
    "            'loss_discriminator' : [],\n",
    "            'real_scores' : [],\n",
    "            'fake_scores' : [],}\n",
    "    \"\"\"\n",
    "    train_accuracy = results['train_accuracy']\n",
    "    train_loss = results['train_loss']\n",
    "    val_accuracy = results['val_accuracy']\n",
    "    val_loss = results['val_loss']\n",
    "\n",
    "    epochs = range(len(results['train_accuracy']))\n",
    "\n",
    "    plt.figure(figsize=(12, 5))\n",
    "\n",
    "    plt.subplot(1, 2, 1)\n",
    "    plt.plot(epochs, train_accuracy, label='Train Accuracy')\n",
    "    plt.plot(epochs, val_accuracy, label='Val Accuracy')\n",
    "    plt.title('Accuracy : Train vs Val')\n",
    "    plt.xlabel('Epochs')\n",
    "    plt.ylabel('Accuracy')\n",
    "    plt.legend()\n",
    "    plt.grid(True)\n",
    "\n",
    "    plt.subplot(1, 2, 2)\n",
    "    plt.plot(epochs, train_loss, label='Train Loss')\n",
    "    plt.plot(epochs, val_loss, label='Val Loss')\n",
    "    plt.title('Loss : Train vs Val')\n",
    "    plt.xlabel('Epochs')\n",
    "    plt.ylabel('Loss')\n",
    "    plt.legend()\n",
    "    plt.grid(True)\n",
    "plot_loss_curves(model_history)"
   ]
  },
  {
   "cell_type": "code",
   "execution_count": 105,
   "metadata": {},
   "outputs": [
    {
     "name": "stderr",
     "output_type": "stream",
     "text": [
      "Making predictions: 100%|██████████| 143/143 [00:00<00:00, 410.16it/s]\n",
      "Making predictions: 100%|██████████| 572/572 [00:01<00:00, 515.35it/s]\n"
     ]
    }
   ],
   "source": [
    "def get_preds(model:torch.nn.Module,\n",
    "              dataloader : torch.utils.data.DataLoader,\n",
    "              device : torch.device) -> list[torch.Tensor]:\n",
    "    \"\"\"\n",
    "    Generate predictions using the provided model and data loader.\n",
    "\n",
    "    Args:\n",
    "        model (torch.nn.Module): The neural network model used for prediction.\n",
    "        dataloader (torch.utils.data.DataLoader): DataLoader for the dataset.\n",
    "        device (torch.device): Device to perform predictions on (e.g., 'cuda' or 'cpu').\n",
    "\n",
    "    Returns:\n",
    "        list[torch.Tensor]: A list containing the predictions for each sample in the dataset.\n",
    "    \"\"\"\n",
    "\n",
    "    y_preds = []\n",
    "    model.eval()\n",
    "    with torch.inference_mode():\n",
    "        for X, y in tqdm(dataloader, desc=\"Making predictions\"):\n",
    "\n",
    "            X, y = X.to(device), y.to(device)\n",
    "            y = y.long()\n",
    "\n",
    "            y_logits = model(X)\n",
    "            y_pred = torch.softmax(y_logits,dim=1).argmax(dim=1)\n",
    "\n",
    "            y_preds.append(y_pred.cpu())\n",
    "\n",
    "    y_pred_tensor = torch.cat(y_preds)\n",
    "\n",
    "    return y_pred_tensor\n",
    "\n",
    "val_preds = get_preds(model=model , dataloader=val_dl , device=device)\n",
    "train_preds = get_preds(model=model , dataloader=train_dl , device=device)"
   ]
  },
  {
   "cell_type": "code",
   "execution_count": 106,
   "metadata": {},
   "outputs": [
    {
     "name": "stdout",
     "output_type": "stream",
     "text": [
      "Validation Accuarcy : 85.76738084827285%\n",
      "Validation Accuarcy : 87.23148401202513%\n"
     ]
    }
   ],
   "source": [
    "from sklearn.metrics import classification_report\n",
    "from sklearn.metrics import accuracy_score\n",
    "\n",
    "val_targets = [label for X,label  in val_dataset]\n",
    "print(f'Validation Accuarcy : {accuracy_score(val_targets, val_preds)*100}%')\n",
    "train_targets = [label for X,label  in train_dataset]\n",
    "print(f'Validation Accuarcy : {accuracy_score(train_targets, train_preds)*100}%')"
   ]
  },
  {
   "cell_type": "code",
   "execution_count": 107,
   "metadata": {},
   "outputs": [
    {
     "name": "stdout",
     "output_type": "stream",
     "text": [
      "------------------------------------------------------------\n",
      "Classification Report : Validation Dataset\n",
      "              precision    recall  f1-score   support\n",
      "\n",
      "         0.0       0.89      0.93      0.91       585\n",
      "         1.0       0.84      0.76      0.80       667\n",
      "         2.0       0.86      0.81      0.84       670\n",
      "         3.0       0.93      0.97      0.95       718\n",
      "         4.0       1.00      1.00      1.00       845\n",
      "         5.0       0.70      0.70      0.70       531\n",
      "         6.0       0.69      0.75      0.72       558\n",
      "\n",
      "    accuracy                           0.86      4574\n",
      "   macro avg       0.84      0.85      0.84      4574\n",
      "weighted avg       0.86      0.86      0.86      4574\n",
      "\n",
      "------------------------------------------------------------\n",
      "\n",
      "Classification Report : Test Dataset\n",
      "              precision    recall  f1-score   support\n",
      "\n",
      "         0.0       0.89      0.94      0.91      2210\n",
      "         1.0       0.87      0.79      0.83      2702\n",
      "         2.0       0.88      0.84      0.86      2591\n",
      "         3.0       0.95      0.98      0.96      2827\n",
      "         4.0       1.00      1.00      1.00      3525\n",
      "         5.0       0.74      0.70      0.72      2186\n",
      "         6.0       0.70      0.79      0.74      2254\n",
      "\n",
      "    accuracy                           0.87     18295\n",
      "   macro avg       0.86      0.86      0.86     18295\n",
      "weighted avg       0.87      0.87      0.87     18295\n",
      "\n"
     ]
    }
   ],
   "source": [
    "from sklearn.metrics import classification_report\n",
    "print('------------------------------------------------------------')\n",
    "val_report = classification_report(val_targets, val_preds)\n",
    "print(f'Classification Report : Validation Dataset')\n",
    "print(val_report)\n",
    "print('------------------------------------------------------------')\n",
    "print()\n",
    "train_report = classification_report(train_targets, train_preds)\n",
    "print(f'Classification Report : Test Dataset')\n",
    "print(train_report)"
   ]
  },
  {
   "cell_type": "code",
   "execution_count": 108,
   "metadata": {},
   "outputs": [
    {
     "data": {
      "image/png": "[encoded data removed]",
      "text/plain": [
       "<Figure size 800x600 with 2 Axes>"
      ]
     },
     "metadata": {},
     "output_type": "display_data"
    },
    {
     "data": {
      "image/png": "[encoded data removed]",
      "text/plain": [
       "<Figure size 800x600 with 2 Axes>"
      ]
     },
     "metadata": {},
     "output_type": "display_data"
    }
   ],
   "source": [
    "from sklearn.metrics import confusion_matrix\n",
    "import seaborn as sns\n",
    "def plot_confusion_matrix(title: str ,targets:torch.Tensor , preds : torch.Tensor):\n",
    "    cf = confusion_matrix(targets, preds)\n",
    "    plt.figure(figsize=(8,6))\n",
    "    sns.heatmap(cf , annot=True , cmap = 'Blues')\n",
    "    plt.xlabel('Prediction')\n",
    "    plt.ylabel('Target')\n",
    "    plt.title(f'Confusion Matrix : {title}') \n",
    "    plt.show()\n",
    "    \n",
    "plot_confusion_matrix(title = 'Validation Dataset' ,preds = val_preds , targets = val_targets )\n",
    "plot_confusion_matrix(title = 'Train Dataset' ,preds = train_preds , targets = train_targets )"
   ]
  }
 ],
 "metadata": {
  "kernelspec": {
   "display_name": "venv",
   "language": "python",
   "name": "python3"
  },
  "language_info": {
   "codemirror_mode": {
    "name": "ipython",
    "version": 3
   },
   "file_extension": ".py",
   "mimetype": "text/x-python",
   "name": "python",
   "nbconvert_exporter": "python",
   "pygments_lexer": "ipython3",
   "version": "3.11.4"
  }
 },
 "nbformat": 4,
 "nbformat_minor": 2
}
